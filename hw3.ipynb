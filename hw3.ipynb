{
 "cells": [
  {
   "attachments": {},
   "cell_type": "markdown",
   "metadata": {},
   "source": [
    "# Homework 3, BEE 6940 (Due By 4/13/23, 9:00PM)"
   ]
  },
  {
   "attachments": {},
   "cell_type": "markdown",
   "metadata": {},
   "source": [
    "**Name**: Demola Ogunnaike\n",
    "\n",
    "**ID**: dko22 (5023990)"
   ]
  },
  {
   "attachments": {},
   "cell_type": "markdown",
   "metadata": {},
   "source": [
    "## Overview"
   ]
  },
  {
   "attachments": {},
   "cell_type": "markdown",
   "metadata": {},
   "source": [
    "### Instructions\n",
    "\n",
    "- Problem 1 asks you to calibrate the Rahmstorf (2007) semi-empirical sea-level rise model using Markov chain Monte Carlo and `Turing.jl`.\n",
    "- Problem 2 asks you to generate projections of global sea-level rise based on this model for different Representative Concentration Pathways.\n",
    "- Problem 3 asks you to compare the results of this calibration with your bootstrap estimates from Lab 5."
   ]
  },
  {
   "attachments": {},
   "cell_type": "markdown",
   "metadata": {},
   "source": [
    "### Load Environment\n",
    "\n",
    "The following code loads the environment and makes sure all needed packages are installed. This should be at the start of most Julia scripts."
   ]
  },
  {
   "cell_type": "code",
   "execution_count": 54,
   "metadata": {},
   "outputs": [
    {
     "name": "stderr",
     "output_type": "stream",
     "text": [
      "\u001b[32m\u001b[1m  Activating\u001b[22m\u001b[39m project at `c:\\Users\\demol\\Documents\\BEE 6940\\hw3-DemolaASC5`\n"
     ]
    }
   ],
   "source": [
    "import Pkg\n",
    "Pkg.activate(@__DIR__)\n",
    "Pkg.instantiate()"
   ]
  },
  {
   "cell_type": "code",
   "execution_count": 55,
   "metadata": {},
   "outputs": [],
   "source": [
    "using Random\n",
    "using CSVFiles # load CSV data\n",
    "using DataFrames # data storage and presentation\n",
    "using Plots # plotting library\n",
    "using StatsPlots # statistical plotting\n",
    "using Distributions # statistical distribution interface\n",
    "using Turing # probabilistic programming and MCMC\n",
    "using Optim # optimization library\n"
   ]
  },
  {
   "attachments": {},
   "cell_type": "markdown",
   "metadata": {},
   "source": [
    "## Problems (100 points)"
   ]
  },
  {
   "attachments": {},
   "cell_type": "markdown",
   "metadata": {},
   "source": [
    "### Problem 1 (60 points)\n",
    "\n",
    "In this problem, we will use Markov chain Monte Carlo to calibrate the [Rahmstorf (2007)](https://doi.org/10.1073/pnas.0907765106) semi-empirical sea-level rise model:\n",
    "$$\\frac{dH(t)}{dt} = \\alpha (T(t) - T_0),$$\n",
    "where $H(t)$ is global mean sea-level anomaly (in mm), $T(t)$ is the global mean surface temperature (in $^\\circ$ C), $T_0$ is the temperature (in $^\\circ$ C) when sea-level rise is in equilibrium, and $\\alpha$ is the sea-level rise sensitivity to warming. Discretizing this equation with an annual time step yields\n",
    "$$H(t+1) = H(t) + \\alpha (T(t) - T_0).$$\n",
    "\n",
    "Our goal in this problem is to calibrate this model and quantify parametric uncertainties using Markov chain Monte Carlo."
   ]
  },
  {
   "cell_type": "code",
   "execution_count": 56,
   "metadata": {},
   "outputs": [
    {
     "data": {
      "text/plain": [
       "rahmstorf_model (generic function with 1 method)"
      ]
     },
     "metadata": {},
     "output_type": "display_data"
    }
   ],
   "source": [
    "function rahmstorf_model(α, T₀, H₀, temp_data)\n",
    "    temp_effect = α .* (temp_data .- T₀)\n",
    "    slr_predict = cumsum(temp_effect) .+ H₀\n",
    "    return slr_predict\n",
    "end"
   ]
  },
  {
   "attachments": {},
   "cell_type": "markdown",
   "metadata": {},
   "source": [
    "First, let's load the data."
   ]
  },
  {
   "cell_type": "code",
   "execution_count": 57,
   "metadata": {},
   "outputs": [
    {
     "name": "stderr",
     "output_type": "stream",
     "text": [
      "┌ Warning: In data/NOAA_IPCC_RCPtempsscenarios.csv line 426 has 0 fields but 13 fields are expected. Skipping row.\n",
      "└ @ TextParse C:\\Users\\demol\\.julia\\packages\\TextParse\\gNKVx\\src\\csv.jl:382\n"
     ]
    },
    {
     "data": {
      "text/html": [
       "<div><div style = \"float: left;\"><span>6×3 DataFrame</span></div><div style = \"clear: both;\"></div></div><div class = \"data-frame\" style = \"overflow-x: scroll;\"><table class = \"data-frame\" style = \"margin-bottom: 6px;\"><thead><tr class = \"header\"><th class = \"rowNumber\" style = \"font-weight: bold; text-align: right;\">Row</th><th style = \"text-align: left;\">Time</th><th style = \"text-align: left;\">GMSL (mm)</th><th style = \"text-align: left;\">Historical NOAA temp &amp; CNRM RCP 8.5 with respect to 20th century</th></tr><tr class = \"subheader headerLastRow\"><th class = \"rowNumber\" style = \"font-weight: bold; text-align: right;\"></th><th title = \"Float64\" style = \"text-align: left;\">Float64</th><th title = \"Float64\" style = \"text-align: left;\">Float64</th><th title = \"Union{Missing, Float64}\" style = \"text-align: left;\">Float64?</th></tr></thead><tbody><tr><td class = \"rowNumber\" style = \"font-weight: bold; text-align: right;\">1</td><td style = \"text-align: right;\">1880.0</td><td style = \"text-align: right;\">-158.7</td><td style = \"text-align: right;\">-0.16</td></tr><tr><td class = \"rowNumber\" style = \"font-weight: bold; text-align: right;\">2</td><td style = \"text-align: right;\">1881.0</td><td style = \"text-align: right;\">-153.1</td><td style = \"text-align: right;\">-0.1</td></tr><tr><td class = \"rowNumber\" style = \"font-weight: bold; text-align: right;\">3</td><td style = \"text-align: right;\">1882.0</td><td style = \"text-align: right;\">-169.9</td><td style = \"text-align: right;\">-0.12</td></tr><tr><td class = \"rowNumber\" style = \"font-weight: bold; text-align: right;\">4</td><td style = \"text-align: right;\">1883.0</td><td style = \"text-align: right;\">-164.6</td><td style = \"text-align: right;\">-0.17</td></tr><tr><td class = \"rowNumber\" style = \"font-weight: bold; text-align: right;\">5</td><td style = \"text-align: right;\">1884.0</td><td style = \"text-align: right;\">-143.7</td><td style = \"text-align: right;\">-0.23</td></tr><tr><td class = \"rowNumber\" style = \"font-weight: bold; text-align: right;\">6</td><td style = \"text-align: right;\">1885.0</td><td style = \"text-align: right;\">-145.2</td><td style = \"text-align: right;\">-0.2</td></tr></tbody></table></div>"
      ],
      "text/latex": [
       "\\begin{tabular}{r|ccc}\n",
       "\t& Time & GMSL (mm) & Historical NOAA temp \\& CNRM RCP 8.5 with respect to 20th century\\\\\n",
       "\t\\hline\n",
       "\t& Float64 & Float64 & Float64?\\\\\n",
       "\t\\hline\n",
       "\t1 & 1880.0 & -158.7 & -0.16 \\\\\n",
       "\t2 & 1881.0 & -153.1 & -0.1 \\\\\n",
       "\t3 & 1882.0 & -169.9 & -0.12 \\\\\n",
       "\t4 & 1883.0 & -164.6 & -0.17 \\\\\n",
       "\t5 & 1884.0 & -143.7 & -0.23 \\\\\n",
       "\t6 & 1885.0 & -145.2 & -0.2 \\\\\n",
       "\\end{tabular}\n"
      ],
      "text/plain": [
       "\u001b[1m6×3 DataFrame\u001b[0m\n",
       "\u001b[1m Row \u001b[0m│\u001b[1m Time    \u001b[0m\u001b[1m GMSL (mm) \u001b[0m\u001b[1m Historical NOAA temp & CNRM RCP 8.5 with respect to\u001b[0m ⋯\n",
       "     │\u001b[90m Float64 \u001b[0m\u001b[90m Float64   \u001b[0m\u001b[90m Union{Missing, Float64}                            \u001b[0m ⋯\n",
       "─────┼──────────────────────────────────────────────────────────────────────────\n",
       "   1 │  1880.0     -158.7                                                      ⋯\n",
       "   2 │  1881.0     -153.1\n",
       "   3 │  1882.0     -169.9\n",
       "   4 │  1883.0     -164.6\n",
       "   5 │  1884.0     -143.7                                                      ⋯\n",
       "   6 │  1885.0     -145.2\n",
       "\u001b[36m                                                                1 column omitted\u001b[0m"
      ]
     },
     "metadata": {},
     "output_type": "display_data"
    }
   ],
   "source": [
    "# load data files\n",
    "slr_data = DataFrame(load(\"data/CSIRO_Recons_gmsl_yr_2015.csv\"))\n",
    "gmt_data = DataFrame(load(\"data/NOAA_IPCC_RCPtempsscenarios.csv\"))\n",
    "\n",
    "slr_data[:, :Time] = slr_data[:, :Time] .- 0.5; # remove 0.5 from Times\n",
    "dat = leftjoin(slr_data, gmt_data, on=\"Time\") # join data frames on time\n",
    "\n",
    "select!(dat, [1, 2, 6])  # drop columns we don't need\n",
    "first(dat, 6)"
   ]
  },
  {
   "cell_type": "code",
   "execution_count": 58,
   "metadata": {},
   "outputs": [],
   "source": [
    "slr_data = dat[:, 2];\n",
    "temp_data = dat[:,3];"
   ]
  },
  {
   "attachments": {},
   "cell_type": "markdown",
   "metadata": {},
   "source": [
    "Next, let's specify the statistical model. Denote the residuals as $$z(\\mathbf{x}, t)=y_t - F(\\mathbf{x}, t),$$ where $y_t$ is the data at time $t$ and $F(\\mathbf{x}, t)$ is the model output at time $t$ with parameters $\\mathbf{x}$. \n",
    "\n",
    "For (relative) simplicity, we will assume $z(\\mathbf{x}, t)$ is given as an AR(1) process, *i.e.* $$z(\\mathbf{x}, t) = \\rho z(\\mathbf{x}, t-1) + \\varepsilon_t, \\quad \\varepsilon_t \\sim \\text{Normal}(0, \\sigma^2).$$"
   ]
  },
  {
   "attachments": {},
   "cell_type": "markdown",
   "metadata": {},
   "source": [
    "The unconditional variance of an AR(1) process is $$\\text{Var}(z) = \\frac{\\sigma^2}{1-\\rho^2},$$ so the likelihood for $z$ (abusing notation to only refer to the time-index, not the parameters) can be written as:\n",
    "$$\\begin{align*}\n",
    "z_1 &\\sim \\text{Normal}\\left(0, \\frac{\\sigma^2}{1-\\rho^2}\\right) \\\\\n",
    "z_t &\\sim \\text{Normal}(\\rho z_{t-1}, \\sigma^2)\n",
    "\\end{align*}$$"
   ]
  },
  {
   "attachments": {},
   "cell_type": "markdown",
   "metadata": {},
   "source": [
    "#### Problem 1.1 (15 points)\n",
    "\n",
    "Select priors for each of the parameters $\\alpha$, $T_0$, $H_0$, $\\rho$, and $\\sigma^2$. Justify these priors based on relevant considerations of prior information and model structure and regularization/informativeness. "
   ]
  },
  {
   "attachments": {},
   "cell_type": "markdown",
   "metadata": {},
   "source": [
    "The following priors were selected, based on the results from how priors were selected to fit data in previous labs. Priors were improved over time based on the results from the chain plot. \n",
    "\n",
    "α ~ Normal(0,2) <br>\n",
    "T₀ ~ Normal(-1,1) <br>\n",
    "H₀ ~ Normal(-200,100) <br> \n",
    "\n",
    "σ ~ Normal(7,2.5), with all numbers being greater than 0 <br>\n",
    "ρ ~ Normal(0.5,0.01) <br>"
   ]
  },
  {
   "attachments": {},
   "cell_type": "markdown",
   "metadata": {},
   "source": [
    "#### Problem 1.2 (15 points)\n",
    "\n",
    "Code the posterior model in `Turing.jl` syntax in the below function. As a tip, do not directly model the residuals (this will increase the model dimension due to how `Turing.jl` parses the model code), but write out the residuals in terms of the data and the model output and rearrange as discussed in class. In other words, use sampling commands like:\n",
    "\n",
    "```julia\n",
    "sl_predict = rahmstorf_model(...)\n",
    "sl_data[1] ~ Normal(sl_predict[1], 2)\n",
    "```\n",
    "rather than \n",
    "```julia\n",
    "residuals = rahmstorf_model(...) .- sl_data\n",
    "residuals[1] ~ Normal(0, 2)\n",
    "```"
   ]
  },
  {
   "cell_type": "code",
   "execution_count": 59,
   "metadata": {},
   "outputs": [
    {
     "data": {
      "text/plain": [
       "DynamicPPL.Model{typeof(slr_posterior), (:slr_data, :temp_data), (), (), Tuple{Vector{Float64}, Vector{Union{Missing, Float64}}}, Tuple{}, DynamicPPL.DefaultContext}(slr_posterior, (slr_data = [-158.7, -153.1, -169.9, -164.6, -143.7, -145.2, -147.6, -153.2, -151.1, -149.5  …  37.2, 37.3, 41.6, 43.5, 52.2, 58.0, 65.7, 67.3, 76.1, 67.7], temp_data = Union{Missing, Float64}[-0.16, -0.1, -0.12, -0.17, -0.23, -0.2, -0.18, -0.26, -0.17, -0.09  …  0.58, 0.65, 0.6, 0.59, 0.51, 0.6, 0.66, 0.53, 0.58, 0.62]), NamedTuple(), DynamicPPL.DefaultContext())"
      ]
     },
     "metadata": {},
     "output_type": "display_data"
    }
   ],
   "source": [
    "@model function slr_posterior(slr_data, temp_data)\n",
    "    # define priors\n",
    "\n",
    "    α ~ Normal(0,2)\n",
    "    T₀ ~ Normal(-1,1) \n",
    "    H₀ ~ Normal(-200,100) \n",
    "    \n",
    "    σ ~ Normal(7,2.5)\n",
    "    ρ ~ Normal(0.5,0.01)\n",
    "\n",
    "    σ_slr = sqrt(max((α^2)/(1-ρ^2),0))\n",
    "\n",
    "    slr_predict = rahmstorf_model(rand(α), rand(T₀), rand(H₀), temp_data)\n",
    "    slr_data[1] = Normal(slr_predict[1],σ_slr)\n",
    "\n",
    "    # define likelihood\n",
    "    for t = 1:length(sl_predict)\n",
    "        slr_data[t] ~ Noraml(slr_predict[t] - p*(s1r_data[t-1]-slr_predict[t-1]),α)\n",
    "    end \n",
    "end\n",
    "slr_model = slr_posterior(slr_data, temp_data)"
   ]
  },
  {
   "attachments": {},
   "cell_type": "markdown",
   "metadata": {},
   "source": [
    "#### Problem 1.3 (15 points)\n",
    "\n",
    "Draw samples from the posterior using MCMC. How did you decide how many chains to use and how many iterations to run the chain(s) for? How did you determine if your Markov chain(s) converged (include any plots and/or quantities which you used to make this assessment)?\n",
    "\n",
    "Tip: If you find poor convergence or that your sampler is taking a while, look at your model definition. You may need to reconsider your priors, or you may be able to reformulate the model to make it more efficient. Or you might just need to increase the number of iterations, because a starting point took longer to converge."
   ]
  },
  {
   "cell_type": "code",
   "execution_count": 67,
   "metadata": {},
   "outputs": [
    {
     "name": "stderr",
     "output_type": "stream",
     "text": [
      "┌ Warning: Only a single thread available: MCMC chains are not sampled in parallel\n",
      "└ @ AbstractMCMC C:\\Users\\demol\\.julia\\packages\\AbstractMCMC\\F9Hbk\\src\\sample.jl:296\n",
      "\u001b[32mSampling (1 threads)   0%|█                             |  ETA: N/A\u001b[39m\n",
      "\u001b[90mSampling (1 threads) 100%|██████████████████████████████| Time: 0:00:00\u001b[39m\n"
     ]
    },
    {
     "ename": "CompositeException",
     "evalue": "TaskFailedException\n\n    nested task error: TaskFailedException\n    \n        nested task error: ArgumentError: Sampler for this object is not defined\n        Stacktrace:\n          [1] Random.Sampler(#unused#::Type{TaskLocalRNG}, sp::Random.SamplerTrivial{Float64, Float64}, #unused#::Val{1})\n            @ Random C:\\Users\\demol\\AppData\\Local\\Programs\\Julia-1.8.5\\share\\julia\\stdlib\\v1.8\\Random\\src\\Random.jl:146\n          [2] Random.Sampler(rng::TaskLocalRNG, x::Random.SamplerTrivial{Float64, Float64}, r::Val{1})\n            @ Random C:\\Users\\demol\\AppData\\Local\\Programs\\Julia-1.8.5\\share\\julia\\stdlib\\v1.8\\Random\\src\\Random.jl:140\n          [3] rand(rng::TaskLocalRNG, X::Random.SamplerTrivial{Float64, Float64}) (repeats 2 times)\n            @ Random C:\\Users\\demol\\AppData\\Local\\Programs\\Julia-1.8.5\\share\\julia\\stdlib\\v1.8\\Random\\src\\Random.jl:254\n          [4] rand(X::Float64)\n            @ Random C:\\Users\\demol\\AppData\\Local\\Programs\\Julia-1.8.5\\share\\julia\\stdlib\\v1.8\\Random\\src\\Random.jl:259\n          [5] slr_posterior(__model__::DynamicPPL.Model{typeof(slr_posterior), (:slr_data, :temp_data), (), (), Tuple{Vector{Float64}, Vector{Union{Missing, Float64}}}, Tuple{}, DynamicPPL.DefaultContext}, __varinfo__::DynamicPPL.UntypedVarInfo{DynamicPPL.Metadata{Dict{AbstractPPL.VarName, Int64}, Vector{Distribution}, Vector{AbstractPPL.VarName}, Vector{Real}, Vector{Set{DynamicPPL.Selector}}}, Float64}, __context__::DynamicPPL.SamplingContext{DynamicPPL.SampleFromUniform, DynamicPPL.DefaultContext, TaskLocalRNG}, slr_data::Vector{Float64}, temp_data::Vector{Union{Missing, Float64}})\n            @ Main c:\\Users\\demol\\Documents\\BEE 6940\\hw3-DemolaASC5\\hw3.ipynb:13\n          [6] macro expansion\n            @ C:\\Users\\demol\\.julia\\packages\\DynamicPPL\\UFajj\\src\\model.jl:593 [inlined]\n          [7] _evaluate!!(model::DynamicPPL.Model{typeof(slr_posterior), (:slr_data, :temp_data), (), (), Tuple{Vector{Float64}, Vector{Union{Missing, Float64}}}, Tuple{}, DynamicPPL.DefaultContext}, varinfo::DynamicPPL.UntypedVarInfo{DynamicPPL.Metadata{Dict{AbstractPPL.VarName, Int64}, Vector{Distribution}, Vector{AbstractPPL.VarName}, Vector{Real}, Vector{Set{DynamicPPL.Selector}}}, Float64}, context::DynamicPPL.SamplingContext{DynamicPPL.SampleFromUniform, DynamicPPL.DefaultContext, TaskLocalRNG})\n            @ DynamicPPL C:\\Users\\demol\\.julia\\packages\\DynamicPPL\\UFajj\\src\\model.jl:576\n          [8] evaluate_threadunsafe!!(model::DynamicPPL.Model{typeof(slr_posterior), (:slr_data, :temp_data), (), (), Tuple{Vector{Float64}, Vector{Union{Missing, Float64}}}, Tuple{}, DynamicPPL.DefaultContext}, varinfo::DynamicPPL.UntypedVarInfo{DynamicPPL.Metadata{Dict{AbstractPPL.VarName, Int64}, Vector{Distribution}, Vector{AbstractPPL.VarName}, Vector{Real}, Vector{Set{DynamicPPL.Selector}}}, Float64}, context::DynamicPPL.SamplingContext{DynamicPPL.SampleFromUniform, DynamicPPL.DefaultContext, TaskLocalRNG})\n            @ DynamicPPL C:\\Users\\demol\\.julia\\packages\\DynamicPPL\\UFajj\\src\\model.jl:551\n          [9] evaluate!!(model::DynamicPPL.Model{typeof(slr_posterior), (:slr_data, :temp_data), (), (), Tuple{Vector{Float64}, Vector{Union{Missing, Float64}}}, Tuple{}, DynamicPPL.DefaultContext}, varinfo::DynamicPPL.UntypedVarInfo{DynamicPPL.Metadata{Dict{AbstractPPL.VarName, Int64}, Vector{Distribution}, Vector{AbstractPPL.VarName}, Vector{Real}, Vector{Set{DynamicPPL.Selector}}}, Float64}, context::DynamicPPL.SamplingContext{DynamicPPL.SampleFromUniform, DynamicPPL.DefaultContext, TaskLocalRNG})\n            @ DynamicPPL C:\\Users\\demol\\.julia\\packages\\DynamicPPL\\UFajj\\src\\model.jl:504\n         [10] evaluate!!(model::DynamicPPL.Model{typeof(slr_posterior), (:slr_data, :temp_data), (), (), Tuple{Vector{Float64}, Vector{Union{Missing, Float64}}}, Tuple{}, DynamicPPL.DefaultContext}, rng::TaskLocalRNG, varinfo::DynamicPPL.UntypedVarInfo{DynamicPPL.Metadata{Dict{AbstractPPL.VarName, Int64}, Vector{Distribution}, Vector{AbstractPPL.VarName}, Vector{Real}, Vector{Set{DynamicPPL.Selector}}}, Float64}, sampler::DynamicPPL.SampleFromUniform, context::DynamicPPL.DefaultContext)\n            @ DynamicPPL C:\\Users\\demol\\.julia\\packages\\DynamicPPL\\UFajj\\src\\model.jl:515\n         [11] (::DynamicPPL.Model{typeof(slr_posterior), (:slr_data, :temp_data), (), (), Tuple{Vector{Float64}, Vector{Union{Missing, Float64}}}, Tuple{}, DynamicPPL.DefaultContext})(::TaskLocalRNG, ::Vararg{Any})\n            @ DynamicPPL C:\\Users\\demol\\.julia\\packages\\DynamicPPL\\UFajj\\src\\model.jl:475\n         [12] DynamicPPL.VarInfo(rng::TaskLocalRNG, model::DynamicPPL.Model{typeof(slr_posterior), (:slr_data, :temp_data), (), (), Tuple{Vector{Float64}, Vector{Union{Missing, Float64}}}, Tuple{}, DynamicPPL.DefaultContext}, sampler::DynamicPPL.SampleFromUniform, context::DynamicPPL.DefaultContext)\n            @ DynamicPPL C:\\Users\\demol\\.julia\\packages\\DynamicPPL\\UFajj\\src\\varinfo.jl:135\n         [13] default_varinfo(rng::TaskLocalRNG, model::DynamicPPL.Model{typeof(slr_posterior), (:slr_data, :temp_data), (), (), Tuple{Vector{Float64}, Vector{Union{Missing, Float64}}}, Tuple{}, DynamicPPL.DefaultContext}, sampler::DynamicPPL.Sampler{NUTS{Turing.Essential.ForwardDiffAD{0}, (), AdvancedHMC.DiagEuclideanMetric}}, context::DynamicPPL.DefaultContext)\n            @ DynamicPPL C:\\Users\\demol\\.julia\\packages\\DynamicPPL\\UFajj\\src\\sampler.jl:80\n         [14] default_varinfo(rng::TaskLocalRNG, model::DynamicPPL.Model{typeof(slr_posterior), (:slr_data, :temp_data), (), (), Tuple{Vector{Float64}, Vector{Union{Missing, Float64}}}, Tuple{}, DynamicPPL.DefaultContext}, sampler::DynamicPPL.Sampler{NUTS{Turing.Essential.ForwardDiffAD{0}, (), AdvancedHMC.DiagEuclideanMetric}})\n            @ DynamicPPL C:\\Users\\demol\\.julia\\packages\\DynamicPPL\\UFajj\\src\\sampler.jl:71\n         [15] step(rng::TaskLocalRNG, model::DynamicPPL.Model{typeof(slr_posterior), (:slr_data, :temp_data), (), (), Tuple{Vector{Float64}, Vector{Union{Missing, Float64}}}, Tuple{}, DynamicPPL.DefaultContext}, spl::DynamicPPL.Sampler{NUTS{Turing.Essential.ForwardDiffAD{0}, (), AdvancedHMC.DiagEuclideanMetric}}; resume_from::Nothing, init_params::Nothing, kwargs::Base.Pairs{Symbol, Integer, Tuple{Symbol, Symbol}, NamedTuple{(:nadapts, :drop_warmup), Tuple{Int64, Bool}}})\n            @ DynamicPPL C:\\Users\\demol\\.julia\\packages\\DynamicPPL\\UFajj\\src\\sampler.jl:98\n         [16] macro expansion\n            @ C:\\Users\\demol\\.julia\\packages\\AbstractMCMC\\F9Hbk\\src\\sample.jl:125 [inlined]\n         [17] macro expansion\n            @ C:\\Users\\demol\\.julia\\packages\\AbstractMCMC\\F9Hbk\\src\\logging.jl:16 [inlined]\n         [18] mcmcsample(rng::TaskLocalRNG, model::DynamicPPL.Model{typeof(slr_posterior), (:slr_data, :temp_data), (), (), Tuple{Vector{Float64}, Vector{Union{Missing, Float64}}}, Tuple{}, DynamicPPL.DefaultContext}, sampler::DynamicPPL.Sampler{NUTS{Turing.Essential.ForwardDiffAD{0}, (), AdvancedHMC.DiagEuclideanMetric}}, N::Int64; progress::Bool, progressname::String, callback::Nothing, discard_initial::Int64, thinning::Int64, chain_type::Type, kwargs::Base.Pairs{Symbol, Union{Nothing, Integer}, Tuple{Symbol, Symbol, Symbol}, NamedTuple{(:nadapts, :init_params, :drop_warmup), Tuple{Int64, Nothing, Bool}}})\n            @ AbstractMCMC C:\\Users\\demol\\.julia\\packages\\AbstractMCMC\\F9Hbk\\src\\sample.jl:116\n         [19] sample(rng::TaskLocalRNG, model::DynamicPPL.Model{typeof(slr_posterior), (:slr_data, :temp_data), (), (), Tuple{Vector{Float64}, Vector{Union{Missing, Float64}}}, Tuple{}, DynamicPPL.DefaultContext}, sampler::DynamicPPL.Sampler{NUTS{Turing.Essential.ForwardDiffAD{0}, (), AdvancedHMC.DiagEuclideanMetric}}, N::Int64; chain_type::Type, resume_from::Nothing, progress::Bool, nadapts::Int64, discard_adapt::Bool, discard_initial::Int64, kwargs::Base.Pairs{Symbol, Union{Nothing, Bool}, Tuple{Symbol, Symbol}, NamedTuple{(:init_params, :drop_warmup), Tuple{Nothing, Bool}}})\n            @ Turing.Inference C:\\Users\\demol\\.julia\\packages\\Turing\\HwTAU\\src\\inference\\hmc.jl:133\n         [20] macro expansion\n            @ C:\\Users\\demol\\.julia\\packages\\AbstractMCMC\\F9Hbk\\src\\sample.jl:370 [inlined]\n         [21] (::AbstractMCMC.var\"#35#48\"{DynamicPPL.Sampler{NUTS{Turing.Essential.ForwardDiffAD{0}, (), AdvancedHMC.DiagEuclideanMetric}}, DynamicPPL.Model{typeof(slr_posterior), (:slr_data, :temp_data), (), (), Tuple{Vector{Float64}, Vector{Union{Missing, Float64}}}, Tuple{}, DynamicPPL.DefaultContext}, TaskLocalRNG, UnitRange{Int64}, Bool, Base.Pairs{Symbol, Any, Tuple{Symbol, Symbol}, NamedTuple{(:chain_type, :drop_warmup), Tuple{UnionAll, Bool}}}, Int64, Vector{Any}, Nothing, Vector{UInt64}})()\n            @ AbstractMCMC .\\threadingconstructs.jl:258\n    Stacktrace:\n     [1] sync_end(c::Channel{Any})\n       @ Base .\\task.jl:436\n     [2] macro expansion\n       @ .\\task.jl:455 [inlined]\n     [3] macro expansion\n       @ C:\\Users\\demol\\.julia\\packages\\AbstractMCMC\\F9Hbk\\src\\sample.jl:349 [inlined]\n     [4] (::AbstractMCMC.var\"#34#47\"{Bool, Base.Pairs{Symbol, Any, Tuple{Symbol, Symbol}, NamedTuple{(:chain_type, :drop_warmup), Tuple{UnionAll, Bool}}}, Int64, Int64, Vector{Any}, Nothing, Vector{UInt64}, Vector{DynamicPPL.Sampler{NUTS{Turing.Essential.ForwardDiffAD{0}, (), AdvancedHMC.DiagEuclideanMetric}}}, Vector{DynamicPPL.Model{typeof(slr_posterior), (:slr_data, :temp_data), (), (), Tuple{Vector{Float64}, Vector{Union{Missing, Float64}}}, Tuple{}, DynamicPPL.DefaultContext}}, Vector{TaskLocalRNG}, Int64, Int64})()\n       @ AbstractMCMC .\\task.jl:484",
     "output_type": "error",
     "traceback": [
      "TaskFailedException\n",
      "\n",
      "    nested task error: TaskFailedException\n",
      "    \n",
      "        nested task error: ArgumentError: Sampler for this object is not defined\n",
      "        Stacktrace:\n",
      "          [1] Random.Sampler(#unused#::Type{TaskLocalRNG}, sp::Random.SamplerTrivial{Float64, Float64}, #unused#::Val{1})\n",
      "            @ Random C:\\Users\\demol\\AppData\\Local\\Programs\\Julia-1.8.5\\share\\julia\\stdlib\\v1.8\\Random\\src\\Random.jl:146\n",
      "          [2] Random.Sampler(rng::TaskLocalRNG, x::Random.SamplerTrivial{Float64, Float64}, r::Val{1})\n",
      "            @ Random C:\\Users\\demol\\AppData\\Local\\Programs\\Julia-1.8.5\\share\\julia\\stdlib\\v1.8\\Random\\src\\Random.jl:140\n",
      "          [3] rand(rng::TaskLocalRNG, X::Random.SamplerTrivial{Float64, Float64}) (repeats 2 times)\n",
      "            @ Random C:\\Users\\demol\\AppData\\Local\\Programs\\Julia-1.8.5\\share\\julia\\stdlib\\v1.8\\Random\\src\\Random.jl:254\n",
      "          [4] rand(X::Float64)\n",
      "            @ Random C:\\Users\\demol\\AppData\\Local\\Programs\\Julia-1.8.5\\share\\julia\\stdlib\\v1.8\\Random\\src\\Random.jl:259\n",
      "          [5] slr_posterior(__model__::DynamicPPL.Model{typeof(slr_posterior), (:slr_data, :temp_data), (), (), Tuple{Vector{Float64}, Vector{Union{Missing, Float64}}}, Tuple{}, DynamicPPL.DefaultContext}, __varinfo__::DynamicPPL.UntypedVarInfo{DynamicPPL.Metadata{Dict{AbstractPPL.VarName, Int64}, Vector{Distribution}, Vector{AbstractPPL.VarName}, Vector{Real}, Vector{Set{DynamicPPL.Selector}}}, Float64}, __context__::DynamicPPL.SamplingContext{DynamicPPL.SampleFromUniform, DynamicPPL.DefaultContext, TaskLocalRNG}, slr_data::Vector{Float64}, temp_data::Vector{Union{Missing, Float64}})\n",
      "            @ Main c:\\Users\\demol\\Documents\\BEE 6940\\hw3-DemolaASC5\\hw3.ipynb:13\n",
      "          [6] macro expansion\n",
      "            @ C:\\Users\\demol\\.julia\\packages\\DynamicPPL\\UFajj\\src\\model.jl:593 [inlined]\n",
      "          [7] _evaluate!!(model::DynamicPPL.Model{typeof(slr_posterior), (:slr_data, :temp_data), (), (), Tuple{Vector{Float64}, Vector{Union{Missing, Float64}}}, Tuple{}, DynamicPPL.DefaultContext}, varinfo::DynamicPPL.UntypedVarInfo{DynamicPPL.Metadata{Dict{AbstractPPL.VarName, Int64}, Vector{Distribution}, Vector{AbstractPPL.VarName}, Vector{Real}, Vector{Set{DynamicPPL.Selector}}}, Float64}, context::DynamicPPL.SamplingContext{DynamicPPL.SampleFromUniform, DynamicPPL.DefaultContext, TaskLocalRNG})\n",
      "            @ DynamicPPL C:\\Users\\demol\\.julia\\packages\\DynamicPPL\\UFajj\\src\\model.jl:576\n",
      "          [8] evaluate_threadunsafe!!(model::DynamicPPL.Model{typeof(slr_posterior), (:slr_data, :temp_data), (), (), Tuple{Vector{Float64}, Vector{Union{Missing, Float64}}}, Tuple{}, DynamicPPL.DefaultContext}, varinfo::DynamicPPL.UntypedVarInfo{DynamicPPL.Metadata{Dict{AbstractPPL.VarName, Int64}, Vector{Distribution}, Vector{AbstractPPL.VarName}, Vector{Real}, Vector{Set{DynamicPPL.Selector}}}, Float64}, context::DynamicPPL.SamplingContext{DynamicPPL.SampleFromUniform, DynamicPPL.DefaultContext, TaskLocalRNG})\n",
      "            @ DynamicPPL C:\\Users\\demol\\.julia\\packages\\DynamicPPL\\UFajj\\src\\model.jl:551\n",
      "          [9] evaluate!!(model::DynamicPPL.Model{typeof(slr_posterior), (:slr_data, :temp_data), (), (), Tuple{Vector{Float64}, Vector{Union{Missing, Float64}}}, Tuple{}, DynamicPPL.DefaultContext}, varinfo::DynamicPPL.UntypedVarInfo{DynamicPPL.Metadata{Dict{AbstractPPL.VarName, Int64}, Vector{Distribution}, Vector{AbstractPPL.VarName}, Vector{Real}, Vector{Set{DynamicPPL.Selector}}}, Float64}, context::DynamicPPL.SamplingContext{DynamicPPL.SampleFromUniform, DynamicPPL.DefaultContext, TaskLocalRNG})\n",
      "            @ DynamicPPL C:\\Users\\demol\\.julia\\packages\\DynamicPPL\\UFajj\\src\\model.jl:504\n",
      "         [10] evaluate!!(model::DynamicPPL.Model{typeof(slr_posterior), (:slr_data, :temp_data), (), (), Tuple{Vector{Float64}, Vector{Union{Missing, Float64}}}, Tuple{}, DynamicPPL.DefaultContext}, rng::TaskLocalRNG, varinfo::DynamicPPL.UntypedVarInfo{DynamicPPL.Metadata{Dict{AbstractPPL.VarName, Int64}, Vector{Distribution}, Vector{AbstractPPL.VarName}, Vector{Real}, Vector{Set{DynamicPPL.Selector}}}, Float64}, sampler::DynamicPPL.SampleFromUniform, context::DynamicPPL.DefaultContext)\n",
      "            @ DynamicPPL C:\\Users\\demol\\.julia\\packages\\DynamicPPL\\UFajj\\src\\model.jl:515\n",
      "         [11] (::DynamicPPL.Model{typeof(slr_posterior), (:slr_data, :temp_data), (), (), Tuple{Vector{Float64}, Vector{Union{Missing, Float64}}}, Tuple{}, DynamicPPL.DefaultContext})(::TaskLocalRNG, ::Vararg{Any})\n",
      "            @ DynamicPPL C:\\Users\\demol\\.julia\\packages\\DynamicPPL\\UFajj\\src\\model.jl:475\n",
      "         [12] DynamicPPL.VarInfo(rng::TaskLocalRNG, model::DynamicPPL.Model{typeof(slr_posterior), (:slr_data, :temp_data), (), (), Tuple{Vector{Float64}, Vector{Union{Missing, Float64}}}, Tuple{}, DynamicPPL.DefaultContext}, sampler::DynamicPPL.SampleFromUniform, context::DynamicPPL.DefaultContext)\n",
      "            @ DynamicPPL C:\\Users\\demol\\.julia\\packages\\DynamicPPL\\UFajj\\src\\varinfo.jl:135\n",
      "         [13] default_varinfo(rng::TaskLocalRNG, model::DynamicPPL.Model{typeof(slr_posterior), (:slr_data, :temp_data), (), (), Tuple{Vector{Float64}, Vector{Union{Missing, Float64}}}, Tuple{}, DynamicPPL.DefaultContext}, sampler::DynamicPPL.Sampler{NUTS{Turing.Essential.ForwardDiffAD{0}, (), AdvancedHMC.DiagEuclideanMetric}}, context::DynamicPPL.DefaultContext)\n",
      "            @ DynamicPPL C:\\Users\\demol\\.julia\\packages\\DynamicPPL\\UFajj\\src\\sampler.jl:80\n",
      "         [14] default_varinfo(rng::TaskLocalRNG, model::DynamicPPL.Model{typeof(slr_posterior), (:slr_data, :temp_data), (), (), Tuple{Vector{Float64}, Vector{Union{Missing, Float64}}}, Tuple{}, DynamicPPL.DefaultContext}, sampler::DynamicPPL.Sampler{NUTS{Turing.Essential.ForwardDiffAD{0}, (), AdvancedHMC.DiagEuclideanMetric}})\n",
      "            @ DynamicPPL C:\\Users\\demol\\.julia\\packages\\DynamicPPL\\UFajj\\src\\sampler.jl:71\n",
      "         [15] step(rng::TaskLocalRNG, model::DynamicPPL.Model{typeof(slr_posterior), (:slr_data, :temp_data), (), (), Tuple{Vector{Float64}, Vector{Union{Missing, Float64}}}, Tuple{}, DynamicPPL.DefaultContext}, spl::DynamicPPL.Sampler{NUTS{Turing.Essential.ForwardDiffAD{0}, (), AdvancedHMC.DiagEuclideanMetric}}; resume_from::Nothing, init_params::Nothing, kwargs::Base.Pairs{Symbol, Integer, Tuple{Symbol, Symbol}, NamedTuple{(:nadapts, :drop_warmup), Tuple{Int64, Bool}}})\n",
      "            @ DynamicPPL C:\\Users\\demol\\.julia\\packages\\DynamicPPL\\UFajj\\src\\sampler.jl:98\n",
      "         [16] macro expansion\n",
      "            @ C:\\Users\\demol\\.julia\\packages\\AbstractMCMC\\F9Hbk\\src\\sample.jl:125 [inlined]\n",
      "         [17] macro expansion\n",
      "            @ C:\\Users\\demol\\.julia\\packages\\AbstractMCMC\\F9Hbk\\src\\logging.jl:16 [inlined]\n",
      "         [18] mcmcsample(rng::TaskLocalRNG, model::DynamicPPL.Model{typeof(slr_posterior), (:slr_data, :temp_data), (), (), Tuple{Vector{Float64}, Vector{Union{Missing, Float64}}}, Tuple{}, DynamicPPL.DefaultContext}, sampler::DynamicPPL.Sampler{NUTS{Turing.Essential.ForwardDiffAD{0}, (), AdvancedHMC.DiagEuclideanMetric}}, N::Int64; progress::Bool, progressname::String, callback::Nothing, discard_initial::Int64, thinning::Int64, chain_type::Type, kwargs::Base.Pairs{Symbol, Union{Nothing, Integer}, Tuple{Symbol, Symbol, Symbol}, NamedTuple{(:nadapts, :init_params, :drop_warmup), Tuple{Int64, Nothing, Bool}}})\n",
      "            @ AbstractMCMC C:\\Users\\demol\\.julia\\packages\\AbstractMCMC\\F9Hbk\\src\\sample.jl:116\n",
      "         [19] sample(rng::TaskLocalRNG, model::DynamicPPL.Model{typeof(slr_posterior), (:slr_data, :temp_data), (), (), Tuple{Vector{Float64}, Vector{Union{Missing, Float64}}}, Tuple{}, DynamicPPL.DefaultContext}, sampler::DynamicPPL.Sampler{NUTS{Turing.Essential.ForwardDiffAD{0}, (), AdvancedHMC.DiagEuclideanMetric}}, N::Int64; chain_type::Type, resume_from::Nothing, progress::Bool, nadapts::Int64, discard_adapt::Bool, discard_initial::Int64, kwargs::Base.Pairs{Symbol, Union{Nothing, Bool}, Tuple{Symbol, Symbol}, NamedTuple{(:init_params, :drop_warmup), Tuple{Nothing, Bool}}})\n",
      "            @ Turing.Inference C:\\Users\\demol\\.julia\\packages\\Turing\\HwTAU\\src\\inference\\hmc.jl:133\n",
      "         [20] macro expansion\n",
      "            @ C:\\Users\\demol\\.julia\\packages\\AbstractMCMC\\F9Hbk\\src\\sample.jl:370 [inlined]\n",
      "         [21] (::AbstractMCMC.var\"#35#48\"{DynamicPPL.Sampler{NUTS{Turing.Essential.ForwardDiffAD{0}, (), AdvancedHMC.DiagEuclideanMetric}}, DynamicPPL.Model{typeof(slr_posterior), (:slr_data, :temp_data), (), (), Tuple{Vector{Float64}, Vector{Union{Missing, Float64}}}, Tuple{}, DynamicPPL.DefaultContext}, TaskLocalRNG, UnitRange{Int64}, Bool, Base.Pairs{Symbol, Any, Tuple{Symbol, Symbol}, NamedTuple{(:chain_type, :drop_warmup), Tuple{UnionAll, Bool}}}, Int64, Vector{Any}, Nothing, Vector{UInt64}})()\n",
      "            @ AbstractMCMC .\\threadingconstructs.jl:258\n",
      "    Stacktrace:\n",
      "     [1] sync_end(c::Channel{Any})\n",
      "       @ Base .\\task.jl:436\n",
      "     [2] macro expansion\n",
      "       @ .\\task.jl:455 [inlined]\n",
      "     [3] macro expansion\n",
      "       @ C:\\Users\\demol\\.julia\\packages\\AbstractMCMC\\F9Hbk\\src\\sample.jl:349 [inlined]\n",
      "     [4] (::AbstractMCMC.var\"#34#47\"{Bool, Base.Pairs{Symbol, Any, Tuple{Symbol, Symbol}, NamedTuple{(:chain_type, :drop_warmup), Tuple{UnionAll, Bool}}}, Int64, Int64, Vector{Any}, Nothing, Vector{UInt64}, Vector{DynamicPPL.Sampler{NUTS{Turing.Essential.ForwardDiffAD{0}, (), AdvancedHMC.DiagEuclideanMetric}}}, Vector{DynamicPPL.Model{typeof(slr_posterior), (:slr_data, :temp_data), (), (), Tuple{Vector{Float64}, Vector{Union{Missing, Float64}}}, Tuple{}, DynamicPPL.DefaultContext}}, Vector{TaskLocalRNG}, Int64, Int64})()\n",
      "       @ AbstractMCMC .\\task.jl:484\n",
      "\n",
      "Stacktrace:\n",
      "  [1] sync_end(c::Channel{Any})\n",
      "    @ Base .\\task.jl:436\n",
      "  [2] macro expansion\n",
      "    @ .\\task.jl:455 [inlined]\n",
      "  [3] macro expansion\n",
      "    @ C:\\Users\\demol\\.julia\\packages\\AbstractMCMC\\F9Hbk\\src\\sample.jl:327 [inlined]\n",
      "  [4] macro expansion\n",
      "    @ C:\\Users\\demol\\.julia\\packages\\ProgressLogging\\6KXlp\\src\\ProgressLogging.jl:328 [inlined]\n",
      "  [5] (::AbstractMCMC.var\"#32#45\"{Bool, String, Base.Pairs{Symbol, Any, Tuple{Symbol, Symbol}, NamedTuple{(:chain_type, :drop_warmup), Tuple{UnionAll, Bool}}}, Int64, Int64, Vector{Any}, Nothing, Vector{UInt64}, Vector{DynamicPPL.Sampler{NUTS{Turing.Essential.ForwardDiffAD{0}, (), AdvancedHMC.DiagEuclideanMetric}}}, Vector{DynamicPPL.Model{typeof(slr_posterior), (:slr_data, :temp_data), (), (), Tuple{Vector{Float64}, Vector{Union{Missing, Float64}}}, Tuple{}, DynamicPPL.DefaultContext}}, Vector{TaskLocalRNG}, UnitRange{Int64}, Int64, Int64})()\n",
      "    @ AbstractMCMC C:\\Users\\demol\\.julia\\packages\\AbstractMCMC\\F9Hbk\\src\\logging.jl:12\n",
      "  [6] with_logstate(f::Function, logstate::Any)\n",
      "    @ Base.CoreLogging .\\logging.jl:511\n",
      "  [7] with_logger(f::Function, logger::LoggingExtras.TeeLogger{Tuple{LoggingExtras.EarlyFilteredLogger{TerminalLoggers.TerminalLogger, AbstractMCMC.var\"#1#3\"{Module}}, LoggingExtras.EarlyFilteredLogger{Base.CoreLogging.SimpleLogger, AbstractMCMC.var\"#2#4\"{Module}}}})\n",
      "    @ Base.CoreLogging .\\logging.jl:623\n",
      "  [8] with_progresslogger(f::Function, _module::Module, logger::Base.CoreLogging.SimpleLogger)\n",
      "    @ AbstractMCMC C:\\Users\\demol\\.julia\\packages\\AbstractMCMC\\F9Hbk\\src\\logging.jl:36\n",
      "  [9] macro expansion\n",
      "    @ C:\\Users\\demol\\.julia\\packages\\AbstractMCMC\\F9Hbk\\src\\logging.jl:11 [inlined]\n",
      " [10] mcmcsample(rng::TaskLocalRNG, model::DynamicPPL.Model{typeof(slr_posterior), (:slr_data, :temp_data), (), (), Tuple{Vector{Float64}, Vector{Union{Missing, Float64}}}, Tuple{}, DynamicPPL.DefaultContext}, sampler::DynamicPPL.Sampler{NUTS{Turing.Essential.ForwardDiffAD{0}, (), AdvancedHMC.DiagEuclideanMetric}}, ::MCMCThreads, N::Int64, nchains::Int64; progress::Bool, progressname::String, init_params::Nothing, kwargs::Base.Pairs{Symbol, Any, Tuple{Symbol, Symbol}, NamedTuple{(:chain_type, :drop_warmup), Tuple{UnionAll, Bool}}})\n",
      "    @ AbstractMCMC C:\\Users\\demol\\.julia\\packages\\AbstractMCMC\\F9Hbk\\src\\sample.jl:321\n",
      " [11] sample(rng::TaskLocalRNG, model::DynamicPPL.Model{typeof(slr_posterior), (:slr_data, :temp_data), (), (), Tuple{Vector{Float64}, Vector{Union{Missing, Float64}}}, Tuple{}, DynamicPPL.DefaultContext}, sampler::DynamicPPL.Sampler{NUTS{Turing.Essential.ForwardDiffAD{0}, (), AdvancedHMC.DiagEuclideanMetric}}, ensemble::MCMCThreads, N::Int64, n_chains::Int64; chain_type::Type, progress::Bool, kwargs::Base.Pairs{Symbol, Bool, Tuple{Symbol}, NamedTuple{(:drop_warmup,), Tuple{Bool}}})\n",
      "    @ Turing.Inference C:\\Users\\demol\\.julia\\packages\\Turing\\HwTAU\\src\\inference\\Inference.jl:221\n",
      " [12] #sample#6\n",
      "    @ C:\\Users\\demol\\.julia\\packages\\Turing\\HwTAU\\src\\inference\\Inference.jl:206 [inlined]\n",
      " [13] #sample#5\n",
      "    @ C:\\Users\\demol\\.julia\\packages\\Turing\\HwTAU\\src\\inference\\Inference.jl:193 [inlined]\n",
      " [14] top-level scope\n",
      "    @ c:\\Users\\demol\\Documents\\BEE 6940\\hw3-DemolaASC5\\hw3.ipynb:7"
     ]
    }
   ],
   "source": [
    "chain = let\n",
    "    model = slr_posterior(slr_data, temp_data) # load the data into the model object\n",
    "    sampler = NUTS() # use the no-u-turn sampler (there are other options, but this is a good one)\n",
    "    # replace these with your own values\n",
    "    n_per_chain = 5000 # number of iterations per chain\n",
    "    nchains = 4 # number of MCMC chains to run\n",
    "    sample(model, sampler, MCMCThreads(), n_per_chain, nchains, drop_warmup=true) # uncomment for multiple threads, i.e. nchains > 1\n",
    "    # sample(model, sampler, n_per_chain, drop_warmup=true) # comment out to use multiple chains\n",
    "end"
   ]
  },
  {
   "attachments": {},
   "cell_type": "markdown",
   "metadata": {},
   "source": [
    "#### Problem 1.4 (15 points)\n",
    "\n",
    "Make a corner/pairs plot of the posterior samples using `corner(chain[:, :, 1])` (unfortunately, this plot recipe does not work well with multiple chains, but if your chains have converged and were run long enough, they should all look roughly the same). Do the correlations between the various parameters make sense to you? Why or why not?"
   ]
  },
  {
   "cell_type": "code",
   "execution_count": 62,
   "metadata": {},
   "outputs": [
    {
     "ename": "UndefVarError",
     "evalue": "UndefVarError: chain not defined",
     "output_type": "error",
     "traceback": [
      "UndefVarError: chain not defined\n",
      "\n",
      "Stacktrace:\n",
      " [1] top-level scope\n",
      "   @ c:\\Users\\demol\\Documents\\BEE 6940\\hw3-DemolaASC5\\hw3.ipynb:1"
     ]
    }
   ],
   "source": [
    "plot(chain)"
   ]
  },
  {
   "attachments": {},
   "cell_type": "markdown",
   "metadata": {},
   "source": [
    "### Problem 2 (30 points)\n",
    "\n",
    "In this problem, we will use our calibrated model above with NOAA's RCP8.5 temperature projections to look at different point estimates of the model parameters and now their associated projections compare to the posterior predictive probability distribution."
   ]
  },
  {
   "attachments": {},
   "cell_type": "markdown",
   "metadata": {},
   "source": [
    "#### Problem 2.1 (5 points)\n",
    "\n",
    "Compute the maximum *a posteriori* (MAP) and maximum likelhood (MLE) estimates for the model."
   ]
  },
  {
   "attachments": {},
   "cell_type": "markdown",
   "metadata": {},
   "source": [
    "#### Problem 2.2 (15 points)\n",
    "\n",
    "Use `gmt_data` (the first column for the years and the fourth column for temperatures) to simulate sea-levels using your model for 1,000 posterior parameter samples, as well as for the MLE and MAP estimates. Plot the 95% quantiles by year for the posterior predictive samples along with the posterior median and the MAP and MLE projections."
   ]
  },
  {
   "attachments": {},
   "cell_type": "markdown",
   "metadata": {},
   "source": [
    "#### Problem 2.3 (10 points)\n",
    "\n",
    "Based on your plot in Problem 2.2, discuss the potential implications for risk assessment of using the different point estimates (MAP and MLE) vs the broader posterior predictive ensemble. When would you suggest that these estimates be used or not used?"
   ]
  }
 ],
 "metadata": {
  "kernelspec": {
   "display_name": "Julia 1.8.5",
   "language": "julia",
   "name": "julia-1.8"
  },
  "language_info": {
   "file_extension": ".jl",
   "mimetype": "application/julia",
   "name": "julia",
   "version": "1.8.5"
  },
  "orig_nbformat": 4
 },
 "nbformat": 4,
 "nbformat_minor": 2
}
